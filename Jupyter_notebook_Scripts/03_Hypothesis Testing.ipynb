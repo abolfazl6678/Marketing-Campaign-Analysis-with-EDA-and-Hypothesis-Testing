{
 "cells": [
  {
   "cell_type": "markdown",
   "id": "bc721beb-3cbf-4c5c-b5c8-50723ee6cccc",
   "metadata": {},
   "source": [
    "# **Hypothesis Testing**"
   ]
  },
  {
   "cell_type": "markdown",
   "id": "e8091446-ed4b-4c40-9597-98eef61051e1",
   "metadata": {},
   "source": [
    "# 1. Importing the data and inspecting the data"
   ]
  },
  {
   "cell_type": "code",
   "execution_count": 85,
   "id": "6b3299f9-6cc1-4295-86a0-2ffac06368c7",
   "metadata": {},
   "outputs": [
    {
     "name": "stdout",
     "output_type": "stream",
     "text": [
      "<class 'pandas.core.frame.DataFrame'>\n",
      "Index: 2235 entries, 0 to 2239\n",
      "Data columns (total 46 columns):\n",
      " #   Column                   Non-Null Count  Dtype         \n",
      "---  ------                   --------------  -----         \n",
      " 0   ID                       2235 non-null   int64         \n",
      " 1   Year_Birth               2235 non-null   int64         \n",
      " 2   Income                   2235 non-null   float64       \n",
      " 3   Kidhome                  2235 non-null   int64         \n",
      " 4   Teenhome                 2235 non-null   int64         \n",
      " 5   Dt_Customer              2235 non-null   datetime64[ns]\n",
      " 6   Recency                  2235 non-null   int64         \n",
      " 7   MntWines                 2235 non-null   int64         \n",
      " 8   MntFruits                2235 non-null   int64         \n",
      " 9   MntMeatProducts          2235 non-null   int64         \n",
      " 10  MntFishProducts          2235 non-null   int64         \n",
      " 11  MntSweetProducts         2235 non-null   int64         \n",
      " 12  MntGoldProds             2235 non-null   int64         \n",
      " 13  NumDealsPurchases        2235 non-null   int64         \n",
      " 14  NumWebPurchases          2235 non-null   int64         \n",
      " 15  NumCatalogPurchases      2235 non-null   int64         \n",
      " 16  NumStorePurchases        2235 non-null   int64         \n",
      " 17  NumWebVisitsMonth        2235 non-null   int64         \n",
      " 18  AcceptedCmp3             2235 non-null   int64         \n",
      " 19  AcceptedCmp4             2235 non-null   int64         \n",
      " 20  AcceptedCmp5             2235 non-null   int64         \n",
      " 21  AcceptedCmp1             2235 non-null   int64         \n",
      " 22  AcceptedCmp2             2235 non-null   int64         \n",
      " 23  Response                 2235 non-null   int64         \n",
      " 24  Complain                 2235 non-null   int64         \n",
      " 25  Number_children          2235 non-null   int64         \n",
      " 26  Age                      2235 non-null   int64         \n",
      " 27  total_spending           2235 non-null   int64         \n",
      " 28  total_purchases          2235 non-null   int64         \n",
      " 29  Education                2235 non-null   float64       \n",
      " 30  Marital_Status_Absurd    2235 non-null   float64       \n",
      " 31  Marital_Status_Alone     2235 non-null   float64       \n",
      " 32  Marital_Status_Divorced  2235 non-null   float64       \n",
      " 33  Marital_Status_Married   2235 non-null   float64       \n",
      " 34  Marital_Status_Single    2235 non-null   float64       \n",
      " 35  Marital_Status_Together  2235 non-null   float64       \n",
      " 36  Marital_Status_Widow     2235 non-null   float64       \n",
      " 37  Marital_Status_YOLO      2235 non-null   float64       \n",
      " 38  Country_AUS              2235 non-null   float64       \n",
      " 39  Country_CA               2235 non-null   float64       \n",
      " 40  Country_GER              2235 non-null   float64       \n",
      " 41  Country_IND              2235 non-null   float64       \n",
      " 42  Country_ME               2235 non-null   float64       \n",
      " 43  Country_SA               2235 non-null   float64       \n",
      " 44  Country_SP               2235 non-null   float64       \n",
      " 45  Country_US               2235 non-null   float64       \n",
      "dtypes: datetime64[ns](1), float64(18), int64(27)\n",
      "memory usage: 820.7 KB\n",
      "None\n"
     ]
    }
   ],
   "source": [
    "import pandas as pd\n",
    "import numpy as np\n",
    "from datetime import date\n",
    "import seaborn as sns\n",
    "import matplotlib.pyplot as plt\n",
    "df = pd.read_parquet('data/interim/data_outliers_cleared.parquet')\n",
    "#print information of the cleaned data\n",
    "print(df.info())"
   ]
  },
  {
   "cell_type": "markdown",
   "id": "e14a90ca-a3ce-4d40-b2c0-e027cce2c4f9",
   "metadata": {},
   "source": [
    "**According to the result from above cell, the data has transferred correctly.**"
   ]
  },
  {
   "cell_type": "markdown",
   "id": "162305ba-4fe5-4a8e-9b2c-abf43adae55c",
   "metadata": {},
   "source": [
    "# 2. Are older individuals less likely to prefer online shopping?\n",
    "- People can be divided into young and old based on their age: if age of person is less than < 55 years old is young Else old                            \n",
    "- Ratio of in-store shopping to online shopping shows tendency of the individual to in-store shopping\n",
    "- Null hypothesis (H0): average of the ratio for old people < average of the ratio for young people\n",
    "- Alternative hypothesis (H1):average of the ratio for old people > average of the ratio for young people"
   ]
  },
  {
   "cell_type": "code",
   "execution_count": 86,
   "id": "40a32453-14a8-4b59-affb-8a1094f03a27",
   "metadata": {},
   "outputs": [
    {
     "name": "stdout",
     "output_type": "stream",
     "text": [
      "Z-statistic: -1.015336371046151\n",
      "P-value: 0.8450272437194916\n"
     ]
    }
   ],
   "source": [
    "import numpy as np\n",
    "from statsmodels.stats.weightstats import ztest\n",
    "# Null hypothesis (H0): mu_old_people < mu_young_people \n",
    "# Alternative hypothesis (H1): mu_old_people > mu_young_people\n",
    "# Create ratio with zero handling\n",
    "df['instore_online_ratio'] = df['NumStorePurchases'] / (df['NumWebPurchases'] + 1e-10)\n",
    "\n",
    "# Remove infinite and NaN values\n",
    "df_clean = df[~np.isinf(df['instore_online_ratio']) & ~df['instore_online_ratio'].isna()]\n",
    "\n",
    "young_people = df_clean[df_clean['Age'] < 55]\n",
    "old_people = df_clean[df_clean['Age'] >= 55]\n",
    "\n",
    "# Check if we have enough data\n",
    "if young_people.shape[0] > 1 and old_people.shape[0] > 1:\n",
    "    try:\n",
    "        zstat, pvalue = ztest(\n",
    "            old_people['instore_online_ratio'].values, \n",
    "            young_people['instore_online_ratio'].values,\n",
    "            alternative = 'larger'\n",
    "        )\n",
    "        print(f\"Z-statistic: {zstat}\")\n",
    "        print(f\"P-value: {pvalue}\")\n",
    "\n",
    "    except Exception as e:\n",
    "        print(f\"Error in z-test: {e}\")\n",
    "else:\n",
    "    print(\"Not enough data for z-test\")\n"
   ]
  },
  {
   "cell_type": "markdown",
   "id": "ed02bd6f-013d-42ef-995e-e74de11336fa",
   "metadata": {},
   "source": [
    "**Results from above cell:**\n",
    "- P value is high (higher than the typical significance threshold of 0.05). It means that there is no statistically significant difference in the instore/online purchase ratio between people under 55 and people 55+ years old.\n",
    "- Age doesn't appear to be a strong predictor of whether someone prefers in-store vs online shopping (at least based on this ratio)\n",
    "- Both age groups have similar shopping channel preferences"
   ]
  },
  {
   "cell_type": "markdown",
   "id": "6787332a-3a59-418c-8036-35c8f4e4a7ab",
   "metadata": {},
   "source": [
    "# 3. Do customers with children prefer online shopping due to time constraints?\n",
    "- People are divided into customers with children and customers without child based on number of their children: if number of children of person is larger than 0 they are customers with children. Otherwise, they are customers without children    \n",
    "- Ratio of in-store shopping to online shopping shows tendency of the individual to in-store shopping, which is opposite of tendency to online shopping\n",
    "- Null hypothesis (H0): average of the ratio for customers_with_child < average of the ratio for customers_no_child\n",
    "- Alternative hypothesis (H1):average of the ratio for customers_with_child > average of the ratio for customers_no_child"
   ]
  },
  {
   "cell_type": "code",
   "execution_count": 87,
   "id": "6ca2972f-d50b-42cb-b321-ab38fdd75127",
   "metadata": {},
   "outputs": [
    {
     "name": "stdout",
     "output_type": "stream",
     "text": [
      "Z-statistic: -0.12916411919703996\n",
      "P-value: 0.5513861064675847\n"
     ]
    }
   ],
   "source": [
    "# Divide dataset claculated in above cell (df_clean) with ratio of in-store to online into two gropus: customers_with_child and customers_no_child \n",
    "customers_with_child = df_clean[df_clean['Number_children'] > 0]\n",
    "customers_no_child = df_clean[df_clean['Number_children'] == 0]\n",
    "\n",
    "# Null hypothesis (H0): mu_customers_with_child > mu_customers_no_child \n",
    "# Alternative hypothesis (H1): mu_customers_with_child < mu_customers_no_child\n",
    "\n",
    "# Check if we have enough data\n",
    "if customers_no_child.shape[0] > 1 and customers_with_child.shape[0] > 1:\n",
    "    try:\n",
    "        zstat, pvalue = ztest(\n",
    "            customers_with_child['instore_online_ratio'].values, \n",
    "            customers_no_child['instore_online_ratio'].values,\n",
    "            alternative = 'smaller'\n",
    "        )\n",
    "        print(f\"Z-statistic: {zstat}\")\n",
    "        if zstat > 0:\n",
    "            print(f\"P-value: {pvalue}\")\n",
    "        else:\n",
    "            print(f\"P-value: {1-pvalue}\")\n",
    "    except Exception as e:\n",
    "        print(f\"Error in z-test: {e}\")\n",
    "else:\n",
    "    print(\"Not enough data for z-test\")\n"
   ]
  },
  {
   "cell_type": "markdown",
   "id": "f19d522c-ea32-4e77-8744-972dc764aab0",
   "metadata": {},
   "source": [
    "**Results from above cell:**\n",
    "- P value is higher than the typical significance threshold of 0.05. It means that there is no statistically significant difference in the instore/online purchase ratio between people with children and people who do not have children.\n",
    "- Having children doesn't appear to be a strong predictor of whether someone prefers in-store vs online shopping (at least based on this ratio)"
   ]
  },
  {
   "cell_type": "markdown",
   "id": "20c35534-0752-44a5-b3fe-7f86d0b12d1d",
   "metadata": {},
   "source": [
    "# 4. Is there cannibalization between physical stores and online channels? \n",
    "- Two columns from the dataset are used to answer this question: `NumWebPurchases` and `NumStorePurchases`\n",
    "- When we can say  there is cannibalization between physical stores and online channels if average of purchase in store < average of purchase online \n",
    "- Null hypothesis (H0): average of purchase in store > average of purchase online\n",
    "- Alternative hypothesis (H1):average of purchase in store < average of purchase online\n"
   ]
  },
  {
   "cell_type": "code",
   "execution_count": 88,
   "id": "e3748a5b-70e2-47b6-b9a0-b0a4d7d87661",
   "metadata": {},
   "outputs": [
    {
     "name": "stdout",
     "output_type": "stream",
     "text": [
      "Z-statistic: 18.850084158703154\n",
      "P-value: 1.000000\n"
     ]
    }
   ],
   "source": [
    "\n",
    "# Check if we have enough data\n",
    "if df['NumWebPurchases'].shape[0] > 1 and df['NumStorePurchases'].shape[0] > 1:\n",
    "    try:\n",
    "        zstat, pvalue = ztest(\n",
    "            df['NumStorePurchases'].values, \n",
    "            df['NumWebPurchases'].values,\n",
    "            alternative='smaller'\n",
    "        )\n",
    "        print(f\"Z-statistic: {zstat}\")\n",
    "        print(f\"P-value: {pvalue:.6f}\")\n",
    "\n",
    "    except Exception as e:\n",
    "        print(f\"Error in z-test: {e}\")\n",
    "else:\n",
    "    print(\"Not enough data for z-test\")"
   ]
  },
  {
   "cell_type": "markdown",
   "id": "2192548b-c17c-4a3d-b785-913192be60ea",
   "metadata": {},
   "source": [
    "**Results from above cell:**\n",
    "- P value is much higher than the typical significance threshold of 0.05. It means that there is no statistically significant difference that there is cannibalization between physical stores and online channels"
   ]
  },
  {
   "cell_type": "markdown",
   "id": "559ec232-f485-4fdf-a577-9f17418e1041",
   "metadata": {},
   "source": [
    "# 5. Does the United States significantly outperform other countries in purchases?\n",
    "- Another column is created by adding purhase in Country_CA, Country_GER, Country_IND, Country_ME, Country_SA, and Country_SP. Then, named it `Other_counteies`.\n",
    "- Two columns from the dataset are used to answer this question: `Other_counteies` and `Country_US`\n",
    "- Null hypothesis (H0): average of purchase in the US < average of purchase Other_countries\n",
    "- Alternative hypothesis (H1):average of purchase in the US > average of purchase Other_countries"
   ]
  },
  {
   "cell_type": "code",
   "execution_count": 89,
   "id": "a8f97cd2-cf40-4175-940b-d33c93f36290",
   "metadata": {},
   "outputs": [
    {
     "name": "stdout",
     "output_type": "stream",
     "text": [
      "Z-statistic: 1.4399\n",
      "P-value: 0.074955\n",
      "No statistically significant difference (p ≥ 0.05)\n"
     ]
    }
   ],
   "source": [
    "from statsmodels.stats.weightstats import ztest\n",
    "import pandas as pd\n",
    "\n",
    "# Create copies to avoid warnings\n",
    "df_Other_counteies = df[df['Country_US'] == 0].copy()\n",
    "df_US = df[df['Country_US'] == 1].copy()\n",
    "\n",
    "# Convert to numeric and clean data\n",
    "df_US['total_purchases'] = pd.to_numeric(df_US['total_purchases'], errors='coerce')\n",
    "df_Other_counteies['total_purchases'] = pd.to_numeric(df_Other_counteies['total_purchases'], errors='coerce')\n",
    "\n",
    "df_US_clean = df_US['total_purchases'].dropna()\n",
    "df_Other_clean = df_Other_counteies['total_purchases'].dropna()\n",
    "\n",
    "# Perform z-test\n",
    "if len(df_Other_clean) > 1 and len(df_US_clean) > 1:\n",
    "    try:\n",
    "        zstat, pvalue = ztest(df_US_clean, df_Other_clean, alternative='larger')\n",
    "        print(f\"Z-statistic: {zstat:.4f}\")\n",
    "        print(f\"P-value: {pvalue:.6f}\")\n",
    "        \n",
    "        # Statistical significance interpretation\n",
    "        alpha = 0.05\n",
    "        if pvalue < alpha:\n",
    "            print(\"Statistically significant difference (p < 0.05)\")\n",
    "        else:\n",
    "            print(\"No statistically significant difference (p ≥ 0.05)\")\n",
    "            \n",
    "    except Exception as e:\n",
    "        print(f\"Error in z-test: {e}\")\n",
    "else:\n",
    "    print(\"Not enough data for z-test\")"
   ]
  },
  {
   "cell_type": "markdown",
   "id": "a835e067-f4ca-4e2b-bd8d-1ad073e64aa0",
   "metadata": {},
   "source": [
    "**Results from above cell:**\n",
    "- P value is higher than the typical significance threshold of 0.05. It means that there is no statistically significant difference in outperforming purchase in the United States compared to "
   ]
  },
  {
   "cell_type": "code",
   "execution_count": null,
   "id": "85cbf059-f638-46bb-93bc-39869c8d402e",
   "metadata": {},
   "outputs": [],
   "source": []
  }
 ],
 "metadata": {
  "kernelspec": {
   "display_name": "Python 3 (ipykernel)",
   "language": "python",
   "name": "python3"
  },
  "language_info": {
   "codemirror_mode": {
    "name": "ipython",
    "version": 3
   },
   "file_extension": ".py",
   "mimetype": "text/x-python",
   "name": "python",
   "nbconvert_exporter": "python",
   "pygments_lexer": "ipython3",
   "version": "3.12.2"
  }
 },
 "nbformat": 4,
 "nbformat_minor": 5
}
